{
 "cells": [
  {
   "cell_type": "code",
   "execution_count": 1,
   "metadata": {},
   "outputs": [],
   "source": [
    "import requests\n",
    "import pandas as pd\n",
    "import json\n",
    "import datetime as dt\n",
    "import time\n",
    "\n",
    "from sqlalchemy import create_engine, text"
   ]
  },
  {
   "cell_type": "code",
   "execution_count": null,
   "metadata": {},
   "outputs": [],
   "source": []
  },
  {
   "cell_type": "markdown",
   "metadata": {},
   "source": [
    "<h3> POSTGRES Set Up </h3>"
   ]
  },
  {
   "cell_type": "code",
   "execution_count": 2,
   "metadata": {},
   "outputs": [],
   "source": [
    "with open ('postgre_aut.txt', 'r') as f:\n",
    "    aut = f.read()[:-1]"
   ]
  },
  {
   "cell_type": "code",
   "execution_count": 3,
   "metadata": {},
   "outputs": [
    {
     "data": {
      "text/html": [
       "<div>\n",
       "<style scoped>\n",
       "    .dataframe tbody tr th:only-of-type {\n",
       "        vertical-align: middle;\n",
       "    }\n",
       "\n",
       "    .dataframe tbody tr th {\n",
       "        vertical-align: top;\n",
       "    }\n",
       "\n",
       "    .dataframe thead th {\n",
       "        text-align: right;\n",
       "    }\n",
       "</style>\n",
       "<table border=\"1\" class=\"dataframe\">\n",
       "  <thead>\n",
       "    <tr style=\"text-align: right;\">\n",
       "      <th></th>\n",
       "      <th></th>\n",
       "      <th>code</th>\n",
       "      <th>codein</th>\n",
       "      <th>name</th>\n",
       "      <th>high</th>\n",
       "      <th>low</th>\n",
       "      <th>varBid</th>\n",
       "      <th>pctChange</th>\n",
       "      <th>bid</th>\n",
       "      <th>ask</th>\n",
       "    </tr>\n",
       "    <tr>\n",
       "      <th>coin</th>\n",
       "      <th>date</th>\n",
       "      <th></th>\n",
       "      <th></th>\n",
       "      <th></th>\n",
       "      <th></th>\n",
       "      <th></th>\n",
       "      <th></th>\n",
       "      <th></th>\n",
       "      <th></th>\n",
       "      <th></th>\n",
       "    </tr>\n",
       "  </thead>\n",
       "  <tbody>\n",
       "    <tr>\n",
       "      <th>USDBRL</th>\n",
       "      <th>2024-11-04 15:16:53</th>\n",
       "      <td>USD</td>\n",
       "      <td>BRL</td>\n",
       "      <td>Dólar Americano/Real Brasileiro</td>\n",
       "      <td>5.8697</td>\n",
       "      <td>5.7561</td>\n",
       "      <td>-0.0894</td>\n",
       "      <td>-1.52</td>\n",
       "      <td>5.7782</td>\n",
       "      <td>5.7792</td>\n",
       "    </tr>\n",
       "    <tr>\n",
       "      <th>EURBRL</th>\n",
       "      <th>2024-11-04 15:16:38</th>\n",
       "      <td>EUR</td>\n",
       "      <td>BRL</td>\n",
       "      <td>Euro/Real Brasileiro</td>\n",
       "      <td>6.3579</td>\n",
       "      <td>6.203</td>\n",
       "      <td>0.0859</td>\n",
       "      <td>1.38</td>\n",
       "      <td>6.2849</td>\n",
       "      <td>6.2929</td>\n",
       "    </tr>\n",
       "  </tbody>\n",
       "</table>\n",
       "</div>"
      ],
      "text/plain": [
       "                           code codein                             name  \\\n",
       "coin   date                                                               \n",
       "USDBRL 2024-11-04 15:16:53  USD    BRL  Dólar Americano/Real Brasileiro   \n",
       "EURBRL 2024-11-04 15:16:38  EUR    BRL             Euro/Real Brasileiro   \n",
       "\n",
       "                              high     low   varBid pctChange     bid     ask  \n",
       "coin   date                                                                    \n",
       "USDBRL 2024-11-04 15:16:53  5.8697  5.7561  -0.0894     -1.52  5.7782  5.7792  \n",
       "EURBRL 2024-11-04 15:16:38  6.3579   6.203   0.0859      1.38  6.2849  6.2929  "
      ]
     },
     "execution_count": 3,
     "metadata": {},
     "output_type": "execute_result"
    }
   ],
   "source": [
    "engine = create_engine(aut)\n",
    "\n",
    "with engine.connect() as conn:\n",
    "    \n",
    "    data = conn.execute(text('SELECT * FROM fx_price_collected;'))\n",
    "    \n",
    "\n",
    "df_bank = pd.DataFrame(data)\n",
    "if not df_bank.empty:\n",
    "    df_bank = df_bank.set_index(['coin', 'date'])\n",
    "\n",
    "df_bank.head(2)"
   ]
  },
  {
   "cell_type": "markdown",
   "metadata": {},
   "source": [
    "<h2> API that gives the FX prices </h2>"
   ]
  },
  {
   "cell_type": "code",
   "execution_count": 6,
   "metadata": {},
   "outputs": [],
   "source": [
    "url = 'https://economia.awesomeapi.com.br/json/last/USD-BRL,EUR-BRL'    \n",
    "def api_call():\n",
    "\n",
    "    r = requests.get(url) # calls\n",
    "\n",
    "    df = pd.DataFrame(json.loads(r.text)).T\n",
    "\n",
    "    #transform.\n",
    "    df.index = pd.MultiIndex.from_arrays([df.index, df.create_date.values], names = ['coin', 'date'])\n",
    "    df = df.drop(columns = ['timestamp', 'create_date'])\n",
    "    \n",
    "    return df"
   ]
  },
  {
   "cell_type": "markdown",
   "metadata": {},
   "source": [
    "<h3> POST to register a receiver e-mail  </h3>"
   ]
  },
  {
   "cell_type": "code",
   "execution_count": 15,
   "metadata": {},
   "outputs": [
    {
     "name": "stdout",
     "output_type": "stream",
     "text": [
      "API response: \"e-mail already registered\"\n",
      "\n"
     ]
    }
   ],
   "source": [
    "### register an e-mail for subs\n",
    "\n",
    "webhook_ad = 'http://127.0.0.1:5000/' # first, set up the webhook endpoint.\n",
    "headers={'Content-Type': 'application/json'}\n",
    "\n",
    "# set the mail_address as a list of e-mails as such: ['alexa@gmail.com']\n",
    "mail_post = {'type': 'inclusion', \n",
    "             'name': ['July'],\n",
    "             'mail_address': ['joelyjulyjuju@gmail.com']}\n",
    "\n",
    "\n",
    "include_mail = requests.post(webhook_ad, headers=headers, data = json.dumps(mail_post))\n",
    "\n",
    "assert include_mail.status_code == 200\n",
    "\n",
    "print(f\"API response: {include_mail.text}\")\n"
   ]
  },
  {
   "cell_type": "markdown",
   "metadata": {},
   "source": [
    "<h3> API call and webhook triger </h3>"
   ]
  },
  {
   "cell_type": "code",
   "execution_count": 18,
   "metadata": {},
   "outputs": [
    {
     "name": "stdout",
     "output_type": "stream",
     "text": [
      "New data found! Here its\n"
     ]
    },
    {
     "data": {
      "text/html": [
       "<div>\n",
       "<style scoped>\n",
       "    .dataframe tbody tr th:only-of-type {\n",
       "        vertical-align: middle;\n",
       "    }\n",
       "\n",
       "    .dataframe tbody tr th {\n",
       "        vertical-align: top;\n",
       "    }\n",
       "\n",
       "    .dataframe thead th {\n",
       "        text-align: right;\n",
       "    }\n",
       "</style>\n",
       "<table border=\"1\" class=\"dataframe\">\n",
       "  <thead>\n",
       "    <tr style=\"text-align: right;\">\n",
       "      <th></th>\n",
       "      <th></th>\n",
       "      <th>code</th>\n",
       "      <th>codein</th>\n",
       "      <th>name</th>\n",
       "      <th>high</th>\n",
       "      <th>low</th>\n",
       "      <th>varBid</th>\n",
       "      <th>pctChange</th>\n",
       "      <th>bid</th>\n",
       "      <th>ask</th>\n",
       "    </tr>\n",
       "    <tr>\n",
       "      <th>coin</th>\n",
       "      <th>date</th>\n",
       "      <th></th>\n",
       "      <th></th>\n",
       "      <th></th>\n",
       "      <th></th>\n",
       "      <th></th>\n",
       "      <th></th>\n",
       "      <th></th>\n",
       "      <th></th>\n",
       "      <th></th>\n",
       "    </tr>\n",
       "  </thead>\n",
       "  <tbody>\n",
       "    <tr>\n",
       "      <th>USDBRL</th>\n",
       "      <th>2024-11-04 17:58:59</th>\n",
       "      <td>USD</td>\n",
       "      <td>BRL</td>\n",
       "      <td>Dólar Americano/Real Brasileiro</td>\n",
       "      <td>5.8693</td>\n",
       "      <td>5.7553</td>\n",
       "      <td>-0.0005</td>\n",
       "      <td>0</td>\n",
       "      <td>5.7916</td>\n",
       "      <td>5.7926</td>\n",
       "    </tr>\n",
       "    <tr>\n",
       "      <th>EURBRL</th>\n",
       "      <th>2024-11-04 23:48:07</th>\n",
       "      <td>EUR</td>\n",
       "      <td>BRL</td>\n",
       "      <td>Euro/Real Brasileiro</td>\n",
       "      <td>6.2997</td>\n",
       "      <td>6.2997</td>\n",
       "      <td>0</td>\n",
       "      <td>0</td>\n",
       "      <td>6.2957</td>\n",
       "      <td>6.3037</td>\n",
       "    </tr>\n",
       "  </tbody>\n",
       "</table>\n",
       "</div>"
      ],
      "text/plain": [
       "                           code codein                             name  \\\n",
       "coin   date                                                               \n",
       "USDBRL 2024-11-04 17:58:59  USD    BRL  Dólar Americano/Real Brasileiro   \n",
       "EURBRL 2024-11-04 23:48:07  EUR    BRL             Euro/Real Brasileiro   \n",
       "\n",
       "                              high     low   varBid pctChange     bid     ask  \n",
       "coin   date                                                                    \n",
       "USDBRL 2024-11-04 17:58:59  5.8693  5.7553  -0.0005         0  5.7916  5.7926  \n",
       "EURBRL 2024-11-04 23:48:07  6.2997  6.2997        0         0  6.2957  6.3037  "
      ]
     },
     "metadata": {},
     "output_type": "display_data"
    },
    {
     "name": "stdout",
     "output_type": "stream",
     "text": [
      "\n",
      "WEBHOOK response: {\n",
      "  \"message\": \"New coin prices received!\"\n",
      "}\n",
      "\n"
     ]
    }
   ],
   "source": [
    "new_data = api_call()\n",
    "mask = new_data.index.isin(df_bank.index) # checks if diferent pair coin:time arrived;\n",
    "\n",
    "if new_data[~mask].empty:\n",
    "    print('No new data on the LAST API CALL!')\n",
    "\n",
    "else:\n",
    "    print(\"New data found! Here its\")\n",
    "    display(new_data[~mask])\n",
    "\n",
    "    # append new data -> save on postgres\n",
    "    new_data[~mask].reset_index().to_sql('fx_price_collected', engine, if_exists='append', index = False)\n",
    "\n",
    "    # trigering the webhook;  \n",
    "    json_data = new_data[~mask].reset_index().to_json()\n",
    "    json_data = json.loads(json_data)\n",
    "\n",
    "    # sending a post\n",
    "    post_msg = {\"type\": \"alert\", \n",
    "                \"data\" : json_data}\n",
    "    \n",
    "    r = requests.post(webhook_ad, json.dumps(post_msg), headers=headers)\n",
    "    \n",
    "    print(f'\\nWEBHOOK response: {r.text}')\n"
   ]
  },
  {
   "cell_type": "code",
   "execution_count": null,
   "metadata": {},
   "outputs": [],
   "source": []
  },
  {
   "cell_type": "code",
   "execution_count": null,
   "metadata": {},
   "outputs": [],
   "source": []
  },
  {
   "cell_type": "code",
   "execution_count": null,
   "metadata": {},
   "outputs": [],
   "source": []
  },
  {
   "cell_type": "code",
   "execution_count": null,
   "metadata": {},
   "outputs": [],
   "source": []
  }
 ],
 "metadata": {
  "kernelspec": {
   "display_name": "Python 3",
   "language": "python",
   "name": "python3"
  },
  "language_info": {
   "codemirror_mode": {
    "name": "ipython",
    "version": 3
   },
   "file_extension": ".py",
   "mimetype": "text/x-python",
   "name": "python",
   "nbconvert_exporter": "python",
   "pygments_lexer": "ipython3",
   "version": "3.10.0"
  }
 },
 "nbformat": 4,
 "nbformat_minor": 2
}
